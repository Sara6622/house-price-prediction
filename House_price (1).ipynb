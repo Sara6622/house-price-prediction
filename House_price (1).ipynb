{
 "cells": [
  {
   "cell_type": "markdown",
   "id": "1704c182-e5df-4f02-a55b-537fce9b7fa9",
   "metadata": {},
   "source": [
    "## 1-import Necessary Libraries"
   ]
  },
  {
   "cell_type": "code",
   "execution_count": 35,
   "id": "5062b504-2fd9-4db0-863e-947057d5d36f",
   "metadata": {},
   "outputs": [],
   "source": [
    "import pandas as pd\n",
    "import numpy as np\n",
    "import seaborn as sns\n",
    "import matplotlib.pyplot as plt\n",
    "from scipy.stats import skew\n",
    "from sklearn.preprocessing import OneHotEncoder\n",
    "from sklearn.preprocessing import LabelEncoder\n",
    "from sklearn.preprocessing import StandardScaler\n",
    "from sklearn.preprocessing import RobustScaler\n"
   ]
  },
  {
   "cell_type": "markdown",
   "id": "bf35ceaf-99c8-48b7-92c8-ae5e6c0fde68",
   "metadata": {},
   "source": [
    "## 2-load data"
   ]
  },
  {
   "cell_type": "code",
   "execution_count": 45,
   "id": "5cb66bd9-345f-4dbb-8308-5afb5b686fd0",
   "metadata": {},
   "outputs": [
    {
     "data": {
      "text/html": [
       "<div>\n",
       "<style scoped>\n",
       "    .dataframe tbody tr th:only-of-type {\n",
       "        vertical-align: middle;\n",
       "    }\n",
       "\n",
       "    .dataframe tbody tr th {\n",
       "        vertical-align: top;\n",
       "    }\n",
       "\n",
       "    .dataframe thead th {\n",
       "        text-align: right;\n",
       "    }\n",
       "</style>\n",
       "<table border=\"1\" class=\"dataframe\">\n",
       "  <thead>\n",
       "    <tr style=\"text-align: right;\">\n",
       "      <th></th>\n",
       "      <th>Id</th>\n",
       "      <th>MSSubClass</th>\n",
       "      <th>MSZoning</th>\n",
       "      <th>LotFrontage</th>\n",
       "      <th>LotArea</th>\n",
       "      <th>Street</th>\n",
       "      <th>Alley</th>\n",
       "      <th>LotShape</th>\n",
       "      <th>LandContour</th>\n",
       "      <th>Utilities</th>\n",
       "      <th>...</th>\n",
       "      <th>PoolArea</th>\n",
       "      <th>PoolQC</th>\n",
       "      <th>Fence</th>\n",
       "      <th>MiscFeature</th>\n",
       "      <th>MiscVal</th>\n",
       "      <th>MoSold</th>\n",
       "      <th>YrSold</th>\n",
       "      <th>SaleType</th>\n",
       "      <th>SaleCondition</th>\n",
       "      <th>SalePrice</th>\n",
       "    </tr>\n",
       "  </thead>\n",
       "  <tbody>\n",
       "    <tr>\n",
       "      <th>0</th>\n",
       "      <td>1</td>\n",
       "      <td>60</td>\n",
       "      <td>RL</td>\n",
       "      <td>65.0</td>\n",
       "      <td>8450</td>\n",
       "      <td>Pave</td>\n",
       "      <td>NaN</td>\n",
       "      <td>Reg</td>\n",
       "      <td>Lvl</td>\n",
       "      <td>AllPub</td>\n",
       "      <td>...</td>\n",
       "      <td>0</td>\n",
       "      <td>NaN</td>\n",
       "      <td>NaN</td>\n",
       "      <td>NaN</td>\n",
       "      <td>0</td>\n",
       "      <td>2</td>\n",
       "      <td>2008</td>\n",
       "      <td>WD</td>\n",
       "      <td>Normal</td>\n",
       "      <td>208500</td>\n",
       "    </tr>\n",
       "    <tr>\n",
       "      <th>1</th>\n",
       "      <td>2</td>\n",
       "      <td>20</td>\n",
       "      <td>RL</td>\n",
       "      <td>80.0</td>\n",
       "      <td>9600</td>\n",
       "      <td>Pave</td>\n",
       "      <td>NaN</td>\n",
       "      <td>Reg</td>\n",
       "      <td>Lvl</td>\n",
       "      <td>AllPub</td>\n",
       "      <td>...</td>\n",
       "      <td>0</td>\n",
       "      <td>NaN</td>\n",
       "      <td>NaN</td>\n",
       "      <td>NaN</td>\n",
       "      <td>0</td>\n",
       "      <td>5</td>\n",
       "      <td>2007</td>\n",
       "      <td>WD</td>\n",
       "      <td>Normal</td>\n",
       "      <td>181500</td>\n",
       "    </tr>\n",
       "    <tr>\n",
       "      <th>2</th>\n",
       "      <td>3</td>\n",
       "      <td>60</td>\n",
       "      <td>RL</td>\n",
       "      <td>68.0</td>\n",
       "      <td>11250</td>\n",
       "      <td>Pave</td>\n",
       "      <td>NaN</td>\n",
       "      <td>IR1</td>\n",
       "      <td>Lvl</td>\n",
       "      <td>AllPub</td>\n",
       "      <td>...</td>\n",
       "      <td>0</td>\n",
       "      <td>NaN</td>\n",
       "      <td>NaN</td>\n",
       "      <td>NaN</td>\n",
       "      <td>0</td>\n",
       "      <td>9</td>\n",
       "      <td>2008</td>\n",
       "      <td>WD</td>\n",
       "      <td>Normal</td>\n",
       "      <td>223500</td>\n",
       "    </tr>\n",
       "    <tr>\n",
       "      <th>3</th>\n",
       "      <td>4</td>\n",
       "      <td>70</td>\n",
       "      <td>RL</td>\n",
       "      <td>60.0</td>\n",
       "      <td>9550</td>\n",
       "      <td>Pave</td>\n",
       "      <td>NaN</td>\n",
       "      <td>IR1</td>\n",
       "      <td>Lvl</td>\n",
       "      <td>AllPub</td>\n",
       "      <td>...</td>\n",
       "      <td>0</td>\n",
       "      <td>NaN</td>\n",
       "      <td>NaN</td>\n",
       "      <td>NaN</td>\n",
       "      <td>0</td>\n",
       "      <td>2</td>\n",
       "      <td>2006</td>\n",
       "      <td>WD</td>\n",
       "      <td>Abnorml</td>\n",
       "      <td>140000</td>\n",
       "    </tr>\n",
       "    <tr>\n",
       "      <th>4</th>\n",
       "      <td>5</td>\n",
       "      <td>60</td>\n",
       "      <td>RL</td>\n",
       "      <td>84.0</td>\n",
       "      <td>14260</td>\n",
       "      <td>Pave</td>\n",
       "      <td>NaN</td>\n",
       "      <td>IR1</td>\n",
       "      <td>Lvl</td>\n",
       "      <td>AllPub</td>\n",
       "      <td>...</td>\n",
       "      <td>0</td>\n",
       "      <td>NaN</td>\n",
       "      <td>NaN</td>\n",
       "      <td>NaN</td>\n",
       "      <td>0</td>\n",
       "      <td>12</td>\n",
       "      <td>2008</td>\n",
       "      <td>WD</td>\n",
       "      <td>Normal</td>\n",
       "      <td>250000</td>\n",
       "    </tr>\n",
       "  </tbody>\n",
       "</table>\n",
       "<p>5 rows × 81 columns</p>\n",
       "</div>"
      ],
      "text/plain": [
       "   Id  MSSubClass MSZoning  LotFrontage  LotArea Street Alley LotShape  \\\n",
       "0   1          60       RL         65.0     8450   Pave   NaN      Reg   \n",
       "1   2          20       RL         80.0     9600   Pave   NaN      Reg   \n",
       "2   3          60       RL         68.0    11250   Pave   NaN      IR1   \n",
       "3   4          70       RL         60.0     9550   Pave   NaN      IR1   \n",
       "4   5          60       RL         84.0    14260   Pave   NaN      IR1   \n",
       "\n",
       "  LandContour Utilities  ... PoolArea PoolQC Fence MiscFeature MiscVal MoSold  \\\n",
       "0         Lvl    AllPub  ...        0    NaN   NaN         NaN       0      2   \n",
       "1         Lvl    AllPub  ...        0    NaN   NaN         NaN       0      5   \n",
       "2         Lvl    AllPub  ...        0    NaN   NaN         NaN       0      9   \n",
       "3         Lvl    AllPub  ...        0    NaN   NaN         NaN       0      2   \n",
       "4         Lvl    AllPub  ...        0    NaN   NaN         NaN       0     12   \n",
       "\n",
       "  YrSold  SaleType  SaleCondition  SalePrice  \n",
       "0   2008        WD         Normal     208500  \n",
       "1   2007        WD         Normal     181500  \n",
       "2   2008        WD         Normal     223500  \n",
       "3   2006        WD        Abnorml     140000  \n",
       "4   2008        WD         Normal     250000  \n",
       "\n",
       "[5 rows x 81 columns]"
      ]
     },
     "execution_count": 45,
     "metadata": {},
     "output_type": "execute_result"
    }
   ],
   "source": [
    "train= pd.read_csv(\"train.csv\")\n",
    "test= pd.read_csv('test.csv')\n",
    "train.head()"
   ]
  },
  {
   "cell_type": "markdown",
   "id": "610c0f82-c608-464f-b5fe-a3fa23a013f1",
   "metadata": {},
   "source": [
    "## 3-Understand the data"
   ]
  },
  {
   "cell_type": "code",
   "execution_count": 46,
   "id": "37d361b7-86d8-4433-8e31-17c1dbabe6e3",
   "metadata": {},
   "outputs": [
    {
     "data": {
      "text/html": [
       "<div>\n",
       "<style scoped>\n",
       "    .dataframe tbody tr th:only-of-type {\n",
       "        vertical-align: middle;\n",
       "    }\n",
       "\n",
       "    .dataframe tbody tr th {\n",
       "        vertical-align: top;\n",
       "    }\n",
       "\n",
       "    .dataframe thead th {\n",
       "        text-align: right;\n",
       "    }\n",
       "</style>\n",
       "<table border=\"1\" class=\"dataframe\">\n",
       "  <thead>\n",
       "    <tr style=\"text-align: right;\">\n",
       "      <th></th>\n",
       "      <th>Id</th>\n",
       "      <th>MSSubClass</th>\n",
       "      <th>LotFrontage</th>\n",
       "      <th>LotArea</th>\n",
       "      <th>OverallQual</th>\n",
       "      <th>OverallCond</th>\n",
       "      <th>YearBuilt</th>\n",
       "      <th>YearRemodAdd</th>\n",
       "      <th>MasVnrArea</th>\n",
       "      <th>BsmtFinSF1</th>\n",
       "      <th>...</th>\n",
       "      <th>WoodDeckSF</th>\n",
       "      <th>OpenPorchSF</th>\n",
       "      <th>EnclosedPorch</th>\n",
       "      <th>3SsnPorch</th>\n",
       "      <th>ScreenPorch</th>\n",
       "      <th>PoolArea</th>\n",
       "      <th>MiscVal</th>\n",
       "      <th>MoSold</th>\n",
       "      <th>YrSold</th>\n",
       "      <th>SalePrice</th>\n",
       "    </tr>\n",
       "  </thead>\n",
       "  <tbody>\n",
       "    <tr>\n",
       "      <th>count</th>\n",
       "      <td>1460.000000</td>\n",
       "      <td>1460.000000</td>\n",
       "      <td>1201.000000</td>\n",
       "      <td>1460.000000</td>\n",
       "      <td>1460.000000</td>\n",
       "      <td>1460.000000</td>\n",
       "      <td>1460.000000</td>\n",
       "      <td>1460.000000</td>\n",
       "      <td>1452.000000</td>\n",
       "      <td>1460.000000</td>\n",
       "      <td>...</td>\n",
       "      <td>1460.000000</td>\n",
       "      <td>1460.000000</td>\n",
       "      <td>1460.000000</td>\n",
       "      <td>1460.000000</td>\n",
       "      <td>1460.000000</td>\n",
       "      <td>1460.000000</td>\n",
       "      <td>1460.000000</td>\n",
       "      <td>1460.000000</td>\n",
       "      <td>1460.000000</td>\n",
       "      <td>1460.000000</td>\n",
       "    </tr>\n",
       "    <tr>\n",
       "      <th>mean</th>\n",
       "      <td>730.500000</td>\n",
       "      <td>56.897260</td>\n",
       "      <td>70.049958</td>\n",
       "      <td>10516.828082</td>\n",
       "      <td>6.099315</td>\n",
       "      <td>5.575342</td>\n",
       "      <td>1971.267808</td>\n",
       "      <td>1984.865753</td>\n",
       "      <td>103.685262</td>\n",
       "      <td>443.639726</td>\n",
       "      <td>...</td>\n",
       "      <td>94.244521</td>\n",
       "      <td>46.660274</td>\n",
       "      <td>21.954110</td>\n",
       "      <td>3.409589</td>\n",
       "      <td>15.060959</td>\n",
       "      <td>2.758904</td>\n",
       "      <td>43.489041</td>\n",
       "      <td>6.321918</td>\n",
       "      <td>2007.815753</td>\n",
       "      <td>180921.195890</td>\n",
       "    </tr>\n",
       "    <tr>\n",
       "      <th>std</th>\n",
       "      <td>421.610009</td>\n",
       "      <td>42.300571</td>\n",
       "      <td>24.284752</td>\n",
       "      <td>9981.264932</td>\n",
       "      <td>1.382997</td>\n",
       "      <td>1.112799</td>\n",
       "      <td>30.202904</td>\n",
       "      <td>20.645407</td>\n",
       "      <td>181.066207</td>\n",
       "      <td>456.098091</td>\n",
       "      <td>...</td>\n",
       "      <td>125.338794</td>\n",
       "      <td>66.256028</td>\n",
       "      <td>61.119149</td>\n",
       "      <td>29.317331</td>\n",
       "      <td>55.757415</td>\n",
       "      <td>40.177307</td>\n",
       "      <td>496.123024</td>\n",
       "      <td>2.703626</td>\n",
       "      <td>1.328095</td>\n",
       "      <td>79442.502883</td>\n",
       "    </tr>\n",
       "    <tr>\n",
       "      <th>min</th>\n",
       "      <td>1.000000</td>\n",
       "      <td>20.000000</td>\n",
       "      <td>21.000000</td>\n",
       "      <td>1300.000000</td>\n",
       "      <td>1.000000</td>\n",
       "      <td>1.000000</td>\n",
       "      <td>1872.000000</td>\n",
       "      <td>1950.000000</td>\n",
       "      <td>0.000000</td>\n",
       "      <td>0.000000</td>\n",
       "      <td>...</td>\n",
       "      <td>0.000000</td>\n",
       "      <td>0.000000</td>\n",
       "      <td>0.000000</td>\n",
       "      <td>0.000000</td>\n",
       "      <td>0.000000</td>\n",
       "      <td>0.000000</td>\n",
       "      <td>0.000000</td>\n",
       "      <td>1.000000</td>\n",
       "      <td>2006.000000</td>\n",
       "      <td>34900.000000</td>\n",
       "    </tr>\n",
       "    <tr>\n",
       "      <th>25%</th>\n",
       "      <td>365.750000</td>\n",
       "      <td>20.000000</td>\n",
       "      <td>59.000000</td>\n",
       "      <td>7553.500000</td>\n",
       "      <td>5.000000</td>\n",
       "      <td>5.000000</td>\n",
       "      <td>1954.000000</td>\n",
       "      <td>1967.000000</td>\n",
       "      <td>0.000000</td>\n",
       "      <td>0.000000</td>\n",
       "      <td>...</td>\n",
       "      <td>0.000000</td>\n",
       "      <td>0.000000</td>\n",
       "      <td>0.000000</td>\n",
       "      <td>0.000000</td>\n",
       "      <td>0.000000</td>\n",
       "      <td>0.000000</td>\n",
       "      <td>0.000000</td>\n",
       "      <td>5.000000</td>\n",
       "      <td>2007.000000</td>\n",
       "      <td>129975.000000</td>\n",
       "    </tr>\n",
       "    <tr>\n",
       "      <th>50%</th>\n",
       "      <td>730.500000</td>\n",
       "      <td>50.000000</td>\n",
       "      <td>69.000000</td>\n",
       "      <td>9478.500000</td>\n",
       "      <td>6.000000</td>\n",
       "      <td>5.000000</td>\n",
       "      <td>1973.000000</td>\n",
       "      <td>1994.000000</td>\n",
       "      <td>0.000000</td>\n",
       "      <td>383.500000</td>\n",
       "      <td>...</td>\n",
       "      <td>0.000000</td>\n",
       "      <td>25.000000</td>\n",
       "      <td>0.000000</td>\n",
       "      <td>0.000000</td>\n",
       "      <td>0.000000</td>\n",
       "      <td>0.000000</td>\n",
       "      <td>0.000000</td>\n",
       "      <td>6.000000</td>\n",
       "      <td>2008.000000</td>\n",
       "      <td>163000.000000</td>\n",
       "    </tr>\n",
       "    <tr>\n",
       "      <th>75%</th>\n",
       "      <td>1095.250000</td>\n",
       "      <td>70.000000</td>\n",
       "      <td>80.000000</td>\n",
       "      <td>11601.500000</td>\n",
       "      <td>7.000000</td>\n",
       "      <td>6.000000</td>\n",
       "      <td>2000.000000</td>\n",
       "      <td>2004.000000</td>\n",
       "      <td>166.000000</td>\n",
       "      <td>712.250000</td>\n",
       "      <td>...</td>\n",
       "      <td>168.000000</td>\n",
       "      <td>68.000000</td>\n",
       "      <td>0.000000</td>\n",
       "      <td>0.000000</td>\n",
       "      <td>0.000000</td>\n",
       "      <td>0.000000</td>\n",
       "      <td>0.000000</td>\n",
       "      <td>8.000000</td>\n",
       "      <td>2009.000000</td>\n",
       "      <td>214000.000000</td>\n",
       "    </tr>\n",
       "    <tr>\n",
       "      <th>max</th>\n",
       "      <td>1460.000000</td>\n",
       "      <td>190.000000</td>\n",
       "      <td>313.000000</td>\n",
       "      <td>215245.000000</td>\n",
       "      <td>10.000000</td>\n",
       "      <td>9.000000</td>\n",
       "      <td>2010.000000</td>\n",
       "      <td>2010.000000</td>\n",
       "      <td>1600.000000</td>\n",
       "      <td>5644.000000</td>\n",
       "      <td>...</td>\n",
       "      <td>857.000000</td>\n",
       "      <td>547.000000</td>\n",
       "      <td>552.000000</td>\n",
       "      <td>508.000000</td>\n",
       "      <td>480.000000</td>\n",
       "      <td>738.000000</td>\n",
       "      <td>15500.000000</td>\n",
       "      <td>12.000000</td>\n",
       "      <td>2010.000000</td>\n",
       "      <td>755000.000000</td>\n",
       "    </tr>\n",
       "  </tbody>\n",
       "</table>\n",
       "<p>8 rows × 38 columns</p>\n",
       "</div>"
      ],
      "text/plain": [
       "                Id   MSSubClass  LotFrontage        LotArea  OverallQual  \\\n",
       "count  1460.000000  1460.000000  1201.000000    1460.000000  1460.000000   \n",
       "mean    730.500000    56.897260    70.049958   10516.828082     6.099315   \n",
       "std     421.610009    42.300571    24.284752    9981.264932     1.382997   \n",
       "min       1.000000    20.000000    21.000000    1300.000000     1.000000   \n",
       "25%     365.750000    20.000000    59.000000    7553.500000     5.000000   \n",
       "50%     730.500000    50.000000    69.000000    9478.500000     6.000000   \n",
       "75%    1095.250000    70.000000    80.000000   11601.500000     7.000000   \n",
       "max    1460.000000   190.000000   313.000000  215245.000000    10.000000   \n",
       "\n",
       "       OverallCond    YearBuilt  YearRemodAdd   MasVnrArea   BsmtFinSF1  ...  \\\n",
       "count  1460.000000  1460.000000   1460.000000  1452.000000  1460.000000  ...   \n",
       "mean      5.575342  1971.267808   1984.865753   103.685262   443.639726  ...   \n",
       "std       1.112799    30.202904     20.645407   181.066207   456.098091  ...   \n",
       "min       1.000000  1872.000000   1950.000000     0.000000     0.000000  ...   \n",
       "25%       5.000000  1954.000000   1967.000000     0.000000     0.000000  ...   \n",
       "50%       5.000000  1973.000000   1994.000000     0.000000   383.500000  ...   \n",
       "75%       6.000000  2000.000000   2004.000000   166.000000   712.250000  ...   \n",
       "max       9.000000  2010.000000   2010.000000  1600.000000  5644.000000  ...   \n",
       "\n",
       "        WoodDeckSF  OpenPorchSF  EnclosedPorch    3SsnPorch  ScreenPorch  \\\n",
       "count  1460.000000  1460.000000    1460.000000  1460.000000  1460.000000   \n",
       "mean     94.244521    46.660274      21.954110     3.409589    15.060959   \n",
       "std     125.338794    66.256028      61.119149    29.317331    55.757415   \n",
       "min       0.000000     0.000000       0.000000     0.000000     0.000000   \n",
       "25%       0.000000     0.000000       0.000000     0.000000     0.000000   \n",
       "50%       0.000000    25.000000       0.000000     0.000000     0.000000   \n",
       "75%     168.000000    68.000000       0.000000     0.000000     0.000000   \n",
       "max     857.000000   547.000000     552.000000   508.000000   480.000000   \n",
       "\n",
       "          PoolArea       MiscVal       MoSold       YrSold      SalePrice  \n",
       "count  1460.000000   1460.000000  1460.000000  1460.000000    1460.000000  \n",
       "mean      2.758904     43.489041     6.321918  2007.815753  180921.195890  \n",
       "std      40.177307    496.123024     2.703626     1.328095   79442.502883  \n",
       "min       0.000000      0.000000     1.000000  2006.000000   34900.000000  \n",
       "25%       0.000000      0.000000     5.000000  2007.000000  129975.000000  \n",
       "50%       0.000000      0.000000     6.000000  2008.000000  163000.000000  \n",
       "75%       0.000000      0.000000     8.000000  2009.000000  214000.000000  \n",
       "max     738.000000  15500.000000    12.000000  2010.000000  755000.000000  \n",
       "\n",
       "[8 rows x 38 columns]"
      ]
     },
     "execution_count": 46,
     "metadata": {},
     "output_type": "execute_result"
    }
   ],
   "source": [
    "train.describe()"
   ]
  },
  {
   "cell_type": "code",
   "execution_count": 47,
   "id": "db90623c-befd-4c6a-8633-6227b6733ede",
   "metadata": {},
   "outputs": [
    {
     "name": "stdout",
     "output_type": "stream",
     "text": [
      "<class 'pandas.core.frame.DataFrame'>\n",
      "RangeIndex: 1460 entries, 0 to 1459\n",
      "Data columns (total 81 columns):\n",
      " #   Column         Non-Null Count  Dtype  \n",
      "---  ------         --------------  -----  \n",
      " 0   Id             1460 non-null   int64  \n",
      " 1   MSSubClass     1460 non-null   int64  \n",
      " 2   MSZoning       1460 non-null   object \n",
      " 3   LotFrontage    1201 non-null   float64\n",
      " 4   LotArea        1460 non-null   int64  \n",
      " 5   Street         1460 non-null   object \n",
      " 6   Alley          91 non-null     object \n",
      " 7   LotShape       1460 non-null   object \n",
      " 8   LandContour    1460 non-null   object \n",
      " 9   Utilities      1460 non-null   object \n",
      " 10  LotConfig      1460 non-null   object \n",
      " 11  LandSlope      1460 non-null   object \n",
      " 12  Neighborhood   1460 non-null   object \n",
      " 13  Condition1     1460 non-null   object \n",
      " 14  Condition2     1460 non-null   object \n",
      " 15  BldgType       1460 non-null   object \n",
      " 16  HouseStyle     1460 non-null   object \n",
      " 17  OverallQual    1460 non-null   int64  \n",
      " 18  OverallCond    1460 non-null   int64  \n",
      " 19  YearBuilt      1460 non-null   int64  \n",
      " 20  YearRemodAdd   1460 non-null   int64  \n",
      " 21  RoofStyle      1460 non-null   object \n",
      " 22  RoofMatl       1460 non-null   object \n",
      " 23  Exterior1st    1460 non-null   object \n",
      " 24  Exterior2nd    1460 non-null   object \n",
      " 25  MasVnrType     588 non-null    object \n",
      " 26  MasVnrArea     1452 non-null   float64\n",
      " 27  ExterQual      1460 non-null   object \n",
      " 28  ExterCond      1460 non-null   object \n",
      " 29  Foundation     1460 non-null   object \n",
      " 30  BsmtQual       1423 non-null   object \n",
      " 31  BsmtCond       1423 non-null   object \n",
      " 32  BsmtExposure   1422 non-null   object \n",
      " 33  BsmtFinType1   1423 non-null   object \n",
      " 34  BsmtFinSF1     1460 non-null   int64  \n",
      " 35  BsmtFinType2   1422 non-null   object \n",
      " 36  BsmtFinSF2     1460 non-null   int64  \n",
      " 37  BsmtUnfSF      1460 non-null   int64  \n",
      " 38  TotalBsmtSF    1460 non-null   int64  \n",
      " 39  Heating        1460 non-null   object \n",
      " 40  HeatingQC      1460 non-null   object \n",
      " 41  CentralAir     1460 non-null   object \n",
      " 42  Electrical     1459 non-null   object \n",
      " 43  1stFlrSF       1460 non-null   int64  \n",
      " 44  2ndFlrSF       1460 non-null   int64  \n",
      " 45  LowQualFinSF   1460 non-null   int64  \n",
      " 46  GrLivArea      1460 non-null   int64  \n",
      " 47  BsmtFullBath   1460 non-null   int64  \n",
      " 48  BsmtHalfBath   1460 non-null   int64  \n",
      " 49  FullBath       1460 non-null   int64  \n",
      " 50  HalfBath       1460 non-null   int64  \n",
      " 51  BedroomAbvGr   1460 non-null   int64  \n",
      " 52  KitchenAbvGr   1460 non-null   int64  \n",
      " 53  KitchenQual    1460 non-null   object \n",
      " 54  TotRmsAbvGrd   1460 non-null   int64  \n",
      " 55  Functional     1460 non-null   object \n",
      " 56  Fireplaces     1460 non-null   int64  \n",
      " 57  FireplaceQu    770 non-null    object \n",
      " 58  GarageType     1379 non-null   object \n",
      " 59  GarageYrBlt    1379 non-null   float64\n",
      " 60  GarageFinish   1379 non-null   object \n",
      " 61  GarageCars     1460 non-null   int64  \n",
      " 62  GarageArea     1460 non-null   int64  \n",
      " 63  GarageQual     1379 non-null   object \n",
      " 64  GarageCond     1379 non-null   object \n",
      " 65  PavedDrive     1460 non-null   object \n",
      " 66  WoodDeckSF     1460 non-null   int64  \n",
      " 67  OpenPorchSF    1460 non-null   int64  \n",
      " 68  EnclosedPorch  1460 non-null   int64  \n",
      " 69  3SsnPorch      1460 non-null   int64  \n",
      " 70  ScreenPorch    1460 non-null   int64  \n",
      " 71  PoolArea       1460 non-null   int64  \n",
      " 72  PoolQC         7 non-null      object \n",
      " 73  Fence          281 non-null    object \n",
      " 74  MiscFeature    54 non-null     object \n",
      " 75  MiscVal        1460 non-null   int64  \n",
      " 76  MoSold         1460 non-null   int64  \n",
      " 77  YrSold         1460 non-null   int64  \n",
      " 78  SaleType       1460 non-null   object \n",
      " 79  SaleCondition  1460 non-null   object \n",
      " 80  SalePrice      1460 non-null   int64  \n",
      "dtypes: float64(3), int64(35), object(43)\n",
      "memory usage: 924.0+ KB\n"
     ]
    }
   ],
   "source": [
    "train.info()"
   ]
  },
  {
   "cell_type": "code",
   "execution_count": 48,
   "id": "ee842077-72ae-4d73-9004-159def0f753a",
   "metadata": {},
   "outputs": [
    {
     "name": "stdout",
     "output_type": "stream",
     "text": [
      "Id                  0\n",
      "MSSubClass          0\n",
      "MSZoning            0\n",
      "LotFrontage       259\n",
      "LotArea             0\n",
      "Street              0\n",
      "Alley            1369\n",
      "LotShape            0\n",
      "LandContour         0\n",
      "Utilities           0\n",
      "LotConfig           0\n",
      "LandSlope           0\n",
      "Neighborhood        0\n",
      "Condition1          0\n",
      "Condition2          0\n",
      "BldgType            0\n",
      "HouseStyle          0\n",
      "OverallQual         0\n",
      "OverallCond         0\n",
      "YearBuilt           0\n",
      "YearRemodAdd        0\n",
      "RoofStyle           0\n",
      "RoofMatl            0\n",
      "Exterior1st         0\n",
      "Exterior2nd         0\n",
      "MasVnrType        872\n",
      "MasVnrArea          8\n",
      "ExterQual           0\n",
      "ExterCond           0\n",
      "Foundation          0\n",
      "BsmtQual           37\n",
      "BsmtCond           37\n",
      "BsmtExposure       38\n",
      "BsmtFinType1       37\n",
      "BsmtFinSF1          0\n",
      "BsmtFinType2       38\n",
      "BsmtFinSF2          0\n",
      "BsmtUnfSF           0\n",
      "TotalBsmtSF         0\n",
      "Heating             0\n",
      "HeatingQC           0\n",
      "CentralAir          0\n",
      "Electrical          1\n",
      "1stFlrSF            0\n",
      "2ndFlrSF            0\n",
      "LowQualFinSF        0\n",
      "GrLivArea           0\n",
      "BsmtFullBath        0\n",
      "BsmtHalfBath        0\n",
      "FullBath            0\n",
      "HalfBath            0\n",
      "BedroomAbvGr        0\n",
      "KitchenAbvGr        0\n",
      "KitchenQual         0\n",
      "TotRmsAbvGrd        0\n",
      "Functional          0\n",
      "Fireplaces          0\n",
      "FireplaceQu       690\n",
      "GarageType         81\n",
      "GarageYrBlt        81\n",
      "GarageFinish       81\n",
      "GarageCars          0\n",
      "GarageArea          0\n",
      "GarageQual         81\n",
      "GarageCond         81\n",
      "PavedDrive          0\n",
      "WoodDeckSF          0\n",
      "OpenPorchSF         0\n",
      "EnclosedPorch       0\n",
      "3SsnPorch           0\n",
      "ScreenPorch         0\n",
      "PoolArea            0\n",
      "PoolQC           1453\n",
      "Fence            1179\n",
      "MiscFeature      1406\n",
      "MiscVal             0\n",
      "MoSold              0\n",
      "YrSold              0\n",
      "SaleType            0\n",
      "SaleCondition       0\n",
      "SalePrice           0\n"
     ]
    }
   ],
   "source": [
    "print(train.isna().sum().to_string())\n"
   ]
  },
  {
   "cell_type": "code",
   "execution_count": 49,
   "id": "3be72930-67a5-4fb4-bc6a-adb90605091e",
   "metadata": {},
   "outputs": [
    {
     "name": "stdout",
     "output_type": "stream",
     "text": [
      "Skewness of SalePrice: 1.88\n"
     ]
    }
   ],
   "source": [
    "skewness = skew(train['SalePrice'])\n",
    "print(f\"Skewness of SalePrice: {skewness:.2f}\")\n",
    "##right_skewd"
   ]
  },
  {
   "cell_type": "markdown",
   "id": "5e2af656-d66c-4631-aa67-ac24d4a526a1",
   "metadata": {},
   "source": [
    "## Step 4: Handle Missing Values"
   ]
  },
  {
   "cell_type": "code",
   "execution_count": 50,
   "id": "eaeb20c8-ff9e-49a9-aedc-69ee577b2598",
   "metadata": {},
   "outputs": [],
   "source": [
    "# Fill missing categorical values with \"None\" only if missing means \"No Feature\"\n",
    "\n",
    "for col in [\"PoolQC\", \"Alley\", \"FireplaceQu\", \"Fence\", \"MiscFeature\",'GarageFinish','GarageCond','GarageQual','GarageType',\"MasVnrType\", \"BsmtQual\", \"BsmtCond\", \"BsmtExposure\", \"BsmtFinType1\", \"BsmtFinType2\"]:\n",
    "    train[col]=train[col].fillna(\"None\")\n",
    "    test[col]=test[col].fillna(\"None\")\n",
    "\n",
    "# Fill other categorical missing values with the most common value (mode)\n",
    "cat_feature=[col for col in train.columns if train[col].dtype == \"object\" and test[col].isna().sum()>0]\n",
    "\n",
    "for col in cat_feature:\n",
    "    mode_value=train[col].mode()\n",
    "    train[col]=train[col].fillna(mode_value)\n",
    "    test[col]=test[col].fillna(mode_value)\n",
    "    train[col]=train[col] = train[col].astype(str).str.strip().str.title()  \n",
    "    train[col]=train[col].replace(\"Nan\", \"None\")\n",
    "    \n",
    "\n",
    "\n",
    "train['Electrical']=train['Electrical'].fillna('SBrkr')\n",
    "test['Electrical']=test['Electrical'].fillna('SBrkr')\n"
   ]
  },
  {
   "cell_type": "code",
   "execution_count": 51,
   "id": "8ec41e21-6a65-4d9b-bebf-49e2a6b666bb",
   "metadata": {},
   "outputs": [],
   "source": [
    "# Fill numerical missing values with 0 (Garage-related)\n",
    "for col in['GarageYrBlt','GarageArea']:\n",
    "    train[col]=train[col].fillna(0)\n",
    "    test[col]=test[col].fillna(0)\n",
    "\n",
    "num_with_nul = [col for col in train.columns if train[col].dtype in ['int64', 'float64'] and train[col].isna().sum() > 0] \n",
    "for col in num_with_nul:\n",
    "    median_value=train[col].median()\n",
    "    train[col]=train[col].fillna(median_value)\n",
    "    test[col]=test[col].fillna(median_value)"
   ]
  },
  {
   "cell_type": "code",
   "execution_count": 52,
   "id": "c9edcd4f-444f-417b-b385-103847721c33",
   "metadata": {},
   "outputs": [
    {
     "name": "stdout",
     "output_type": "stream",
     "text": [
      "0\n"
     ]
    }
   ],
   "source": [
    "print(train.isnull().sum().sum()) \n"
   ]
  },
  {
   "cell_type": "markdown",
   "id": "c06c4f50-5521-4d19-8d7f-e98a7f4170e3",
   "metadata": {},
   "source": [
    "## Step 5: Remove Outliers\n"
   ]
  },
  {
   "cell_type": "code",
   "execution_count": 53,
   "id": "5f9bf867-3ff3-48b3-8c67-73432d8c5fbf",
   "metadata": {},
   "outputs": [
    {
     "data": {
      "image/png": "[encoded data removed]",
      "text/plain": [
       "<Figure size 600x400 with 1 Axes>"
      ]
     },
     "metadata": {},
     "output_type": "display_data"
    }
   ],
   "source": [
    "plt.figure(figsize=(6,4))\n",
    "sns.scatterplot(x=train['GrLivArea'], y=train['SalePrice'])\n",
    "plt.xlabel(\"Above ground living\")\n",
    "plt.ylabel(\"sale price\")\n",
    "plt.title(\"detecting outliers\")\n",
    "plt.show()"
   ]
  },
  {
   "cell_type": "code",
   "execution_count": 54,
   "id": "dc2de7e8-4fea-440d-b8ef-8371a38d7587",
   "metadata": {},
   "outputs": [],
   "source": [
    "train = train[train['GrLivArea'] < 4000]\n"
   ]
  },
  {
   "cell_type": "code",
   "execution_count": 55,
   "id": "f6559946-ed29-4a8b-8862-85aa2c9964b4",
   "metadata": {},
   "outputs": [
    {
     "data": {
      "text/plain": [
       "Text(0.5, 1.0, 'Before Log Transformation')"
      ]
     },
     "execution_count": 55,
     "metadata": {},
     "output_type": "execute_result"
    },
    {
     "data": {
      "image/png": "[encoded data removed]",
      "text/plain": [
       "<Figure size 1200x500 with 1 Axes>"
      ]
     },
     "metadata": {},
     "output_type": "display_data"
    }
   ],
   "source": [
    "# Plot SalePrice before log transformation\n",
    "plt.figure(figsize=(12,5))\n",
    "plt.subplot(1,2,1)\n",
    "sns.histplot(train[\"SalePrice\"], bins=50, kde=True)\n",
    "plt.title(\"Before Log Transformation\")\n"
   ]
  },
  {
   "cell_type": "markdown",
   "id": "79fc2d4f-ec69-4c55-8be6-166e3a6e3673",
   "metadata": {},
   "source": [
    "## Step 6: Transform the Target Variable (SalePrice)\n"
   ]
  },
  {
   "cell_type": "code",
   "execution_count": 56,
   "id": "e4ea14c7-8846-4fc1-855a-9b41878eb757",
   "metadata": {},
   "outputs": [],
   "source": [
    "train['SalePrice']=np.log1p(train['SalePrice'])      \n"
   ]
  },
  {
   "cell_type": "code",
   "execution_count": 57,
   "id": "dff24614-dabb-4acb-8bd4-e1a339dbc158",
   "metadata": {},
   "outputs": [
    {
     "data": {
      "text/plain": [
       "Text(0.5, 1.0, 'Before Log Transformation')"
      ]
     },
     "execution_count": 57,
     "metadata": {},
     "output_type": "execute_result"
    },
    {
     "data": {
      "image/png": "[encoded data removed]",
      "text/plain": [
       "<Figure size 1200x500 with 1 Axes>"
      ]
     },
     "metadata": {},
     "output_type": "display_data"
    }
   ],
   "source": [
    "# Plot SalePrice after log transformation\n",
    "plt.figure(figsize=(12,5))\n",
    "plt.subplot(1,2,1)\n",
    "sns.histplot(train[\"SalePrice\"], bins=50, kde=True)\n",
    "plt.title(\"Before Log Transformation\")\n"
   ]
  },
  {
   "cell_type": "markdown",
   "id": "8bd1c385-b078-4f6a-82b0-a905bac107df",
   "metadata": {},
   "source": [
    "## Step 7: Encode Categorical Features\n"
   ]
  },
  {
   "cell_type": "code",
   "execution_count": 58,
   "id": "9e58dd0e-7bea-4523-8cec-e97803cbd47f",
   "metadata": {},
   "outputs": [],
   "source": [
    "train_copy = train.copy()\n",
    "test_copy = test.copy()\n"
   ]
  },
  {
   "cell_type": "code",
   "execution_count": 59,
   "id": "18101a20-55cc-44df-bb2e-4afde8f7286a",
   "metadata": {},
   "outputs": [
    {
     "name": "stdout",
     "output_type": "stream",
     "text": [
      "0\n"
     ]
    }
   ],
   "source": [
    "print(train_copy.isnull().sum().sum())  \n"
   ]
  },
  {
   "cell_type": "code",
   "execution_count": 60,
   "id": "7d9ecaa8-f377-419c-b637-21b498ccaea8",
   "metadata": {},
   "outputs": [
    {
     "name": "stdout",
     "output_type": "stream",
     "text": [
      "Index(['MSZoning', 'Street', 'Alley', 'LotShape', 'LandContour', 'Utilities',\n",
      "       'LotConfig', 'LandSlope', 'Neighborhood', 'Condition1', 'Condition2',\n",
      "       'BldgType', 'HouseStyle', 'RoofStyle', 'RoofMatl', 'Exterior1st',\n",
      "       'Exterior2nd', 'MasVnrType', 'ExterQual', 'ExterCond', 'Foundation',\n",
      "       'BsmtQual', 'BsmtCond', 'BsmtExposure', 'BsmtFinType1', 'BsmtFinType2',\n",
      "       'Heating', 'HeatingQC', 'CentralAir', 'Electrical', 'KitchenQual',\n",
      "       'Functional', 'FireplaceQu', 'GarageType', 'GarageFinish', 'GarageQual',\n",
      "       'GarageCond', 'PavedDrive', 'PoolQC', 'Fence', 'MiscFeature',\n",
      "       'SaleType', 'SaleCondition'],\n",
      "      dtype='object')\n"
     ]
    }
   ],
   "source": [
    "# choose categorical variable\n",
    "cat_feature=train_copy.select_dtypes(include=['object']).columns\n",
    "print(cat_feature)"
   ]
  },
  {
   "cell_type": "code",
   "execution_count": 61,
   "id": "6bb321f3-0ea6-4b01-ae7c-0841146b1a25",
   "metadata": {},
   "outputs": [
    {
     "data": {
      "text/plain": [
       "array(['Gd', 'TA', 'Ex', 'None', 'Fa'], dtype=object)"
      ]
     },
     "execution_count": 61,
     "metadata": {},
     "output_type": "execute_result"
    }
   ],
   "source": [
    "train_copy['BsmtQual'].unique()"
   ]
  },
  {
   "cell_type": "code",
   "execution_count": 62,
   "id": "659151fd-af3a-41fe-9eb4-f220eb0e7eef",
   "metadata": {},
   "outputs": [
    {
     "name": "stdout",
     "output_type": "stream",
     "text": [
      "تم تحويل الأعمدة غير المرتبة إلى One-Hot: ['MSZoning', 'Street', 'Alley', 'LotShape', 'LandContour', 'Utilities', 'LotConfig', 'LandSlope', 'BldgType', 'MasVnrType', 'BsmtExposure', 'CentralAir', 'Electrical', 'GarageFinish', 'PavedDrive', 'PoolQC', 'Fence', 'MiscFeature']\n",
      "تم تحويل الأعمدة المرتبة إلى Ordinal Encoding:      ExterQual ExterCond BsmtQual BsmtCond KitchenQual HeatingQC\n",
      "0           Gd        TA       Gd       TA          Gd        Ex\n",
      "1           TA        TA       Gd       TA          Ta        Ex\n",
      "2           Gd        TA       Gd       TA          Gd        Ex\n",
      "3           TA        TA       TA       Gd          Gd        Gd\n",
      "4           Gd        TA       Gd       TA          Gd        Ex\n",
      "...        ...       ...      ...      ...         ...       ...\n",
      "1455        TA        TA       Gd       TA          Ta        Ex\n",
      "1456        TA        TA       Gd       TA          Ta        TA\n",
      "1457        Ex        Gd       TA       Gd          Gd        Ex\n",
      "1458        TA        TA       TA       TA          Gd        Gd\n",
      "1459        Gd        TA       TA       TA          Ta        Gd\n",
      "\n",
      "[1456 rows x 6 columns]\n"
     ]
    }
   ],
   "source": [
    "ordinal_col = train_copy[['ExterQual', 'ExterCond', 'BsmtQual', 'BsmtCond', 'KitchenQual', 'HeatingQC']]\n",
    "nominal_col=[col for col in cat_feature if col not in ordinal_col]\n",
    "\n",
    "#use label encoder\n",
    "ordinal_mapping={ 'Ex': 5,'Gd':4,'TA':3,  'Fa':2, 'Po':1, 'None':0}\n",
    "\n",
    "for col in ordinal_col:\n",
    "    if col in train_copy.columns:\n",
    "        train_copy[col]=train_copy[col].map(ordinal_mapping)\n",
    "        test_copy[col]=test_copy[col].map(ordinal_mapping)\n",
    "\n",
    "#use get_dummies \n",
    "\n",
    "low_cardinality_cols = [col for col in nominal_col if train_copy[col].nunique() <= 5]\n",
    "train_copy = pd.get_dummies(train_copy, columns=low_cardinality_cols, drop_first=True)\n",
    "test_copy = pd.get_dummies(test_copy, columns=low_cardinality_cols, drop_first=True)\n",
    "\n",
    "print(f\"تم تحويل الأعمدة غير المرتبة إلى One-Hot: {low_cardinality_cols}\")\n",
    "print(f\"تم تحويل الأعمدة المرتبة إلى Ordinal Encoding: {ordinal_col}\")"
   ]
  },
  {
   "cell_type": "code",
   "execution_count": 63,
   "id": "e4dd2dee-abe2-4f5d-9afb-3dcea8efbe1b",
   "metadata": {},
   "outputs": [],
   "source": [
    "train_copy['KitchenQual']=train_copy['KitchenQual'].fillna(0)  # استبدال NaN بالقيمة 0\n"
   ]
  },
  {
   "cell_type": "code",
   "execution_count": 64,
   "id": "e7ce9347-7672-476a-af49-668e79833ae2",
   "metadata": {},
   "outputs": [
    {
     "name": "stdout",
     "output_type": "stream",
     "text": [
      "Series([], dtype: int64)\n"
     ]
    }
   ],
   "source": [
    "missing_values = train_copy.isnull().sum()\n",
    "print(missing_values[missing_values > 0])  # عرض الأعمدة التي تحتوي على NaN\n"
   ]
  },
  {
   "cell_type": "code",
   "execution_count": 65,
   "id": "dbcabcb7-b72b-4b57-8461-3d1fcf50728d",
   "metadata": {},
   "outputs": [
    {
     "name": "stdout",
     "output_type": "stream",
     "text": [
      "(1456, 115)\n",
      "(1459, 110)\n"
     ]
    }
   ],
   "source": [
    "print(train_copy.shape)  # (number_of_rows, number_of_columns)\n",
    "print(test_copy.shape)   # (number_of_rows, number_of_columns)\n"
   ]
  },
  {
   "cell_type": "code",
   "execution_count": 66,
   "id": "17e4c2c8-3afb-4393-aec9-4f05e4b6db37",
   "metadata": {},
   "outputs": [
    {
     "name": "stdout",
     "output_type": "stream",
     "text": [
      "(1456, 119)\n",
      "(1459, 118)\n"
     ]
    }
   ],
   "source": [
    "# Save the target column before modifying train_copy\n",
    "target = train_copy['SalePrice']\n",
    "\n",
    "# Remove the target column from train before aligning columns\n",
    "train_copy = train_copy.drop(columns=['SalePrice'])\n",
    "\n",
    "# Get the union of all feature columns (excluding the target)\n",
    "all_cols = train_copy.columns.union(test_copy.columns)\n",
    "\n",
    "# Align both datasets by reindexing\n",
    "train_copy = train_copy.reindex(columns=all_cols, fill_value=0)  \n",
    "test_copy = test_copy.reindex(columns=all_cols, fill_value=0)\n",
    "\n",
    "# Add the target column back to train\n",
    "train_copy['SalePrice'] = target\n",
    "\n",
    "print(train_copy.shape)  \n",
    "print(test_copy.shape)  "
   ]
  },
  {
   "cell_type": "markdown",
   "id": "8b018e00-fa2d-484e-a7b4-19c47c213add",
   "metadata": {},
   "source": [
    "## Step 8: Feature Scaling\n"
   ]
  },
  {
   "cell_type": "code",
   "execution_count": 67,
   "id": "08449697-b2de-435e-9bc8-790caa7b11ff",
   "metadata": {},
   "outputs": [],
   "source": [
    "train_scaled = train_copy.copy()\n",
    "test_scaled = test_copy.copy()"
   ]
  },
  {
   "cell_type": "code",
   "execution_count": null,
   "id": "68c3fb11-5da9-4346-b1cd-1a1971cf2e8e",
   "metadata": {},
   "outputs": [
    {
     "name": "stdout",
     "output_type": "stream",
     "text": [
      "(1456, 119)\n",
      "(1459, 118)\n"
     ]
    }
   ],
   "source": [
    "num_features = train_scaled.select_dtypes(include=['int64','float64']).columns\n",
    "num_features = num_features.drop('SalePrice')\n",
    "\n",
    "scaler = StandardScaler()\n",
    "\n",
    "train_scaled[num_features] = scaler.fit_transform(train_scaled[num_features])\n",
    "test_scaled[num_features] = scaler.transform(test_scaled[num_features])\n",
    "\n",
    "train_copy['LotArea'] = np.log1p(train_copy['LotArea'])  # Log transformation\n",
    "\n",
    "train_scaled['LotArea'] = scaler.fit_transform(train_copy[['LotArea']])\n",
    "\n",
    "print(train_scaled.shape) \n",
    "print(t 04prest_scaled.shape) "
   ]
  },
  {
   "cell_type": "code",
   "execution_count": null,
   "id": "8c9f6549-eab6-4103-9972-6c6a7b98c309",
   "metadata": {},
   "outputs": [
    {
     "name": "stdout",
     "output_type": "stream",
     "text": [
      "🔹 قبل التحجيم:\n",
      "          1stFlrSF     2ndFlrSF    3SsnPorch  BedroomAbvGr     BsmtCond  \\\n",
      "count  1456.000000  1456.000000  1456.000000   1456.000000  1456.000000   \n",
      "mean   1157.108516   343.532967     3.418956      2.864698     2.934753   \n",
      "std     369.307331   431.528915    29.357056      0.815800     0.552906   \n",
      "min     334.000000     0.000000     0.000000      0.000000     0.000000   \n",
      "25%     882.000000     0.000000     0.000000      2.000000     3.000000   \n",
      "50%    1086.000000     0.000000     0.000000      3.000000     3.000000   \n",
      "75%    1389.250000   728.000000     0.000000      3.000000     3.000000   \n",
      "max    3228.000000  1818.000000   508.000000      8.000000     4.000000   \n",
      "\n",
      "        BsmtFinSF1   BsmtFinSF2  BsmtFullBath  BsmtHalfBath    BsmtQual  ...  \\\n",
      "count  1456.000000  1456.000000   1456.000000   1456.000000  1456.00000  ...   \n",
      "mean    436.991071    46.677198      0.423764      0.057005     3.48489  ...   \n",
      "std     430.255052   161.522376      0.517420      0.237786     0.87409  ...   \n",
      "min       0.000000     0.000000      0.000000      0.000000     0.00000  ...   \n",
      "25%       0.000000     0.000000      0.000000      0.000000     3.00000  ...   \n",
      "50%     381.000000     0.000000      0.000000      0.000000     4.00000  ...   \n",
      "75%     706.500000     0.000000      1.000000      0.000000     4.00000  ...   \n",
      "max    2188.000000  1474.000000      3.000000      2.000000     5.00000  ...   \n",
      "\n",
      "       OverallCond  OverallQual     PoolArea  ScreenPorch  TotRmsAbvGrd  \\\n",
      "count  1456.000000  1456.000000  1456.000000  1456.000000   1456.000000   \n",
      "mean      5.576236     6.088599     2.055632    15.102335      6.506181   \n",
      "std       1.113966     1.369669    35.383772    55.828405      1.611800   \n",
      "min       1.000000     1.000000     0.000000     0.000000      2.000000   \n",
      "25%       5.000000     5.000000     0.000000     0.000000      5.000000   \n",
      "50%       5.000000     6.000000     0.000000     0.000000      6.000000   \n",
      "75%       6.000000     7.000000     0.000000     0.000000      7.000000   \n",
      "max       9.000000    10.000000   738.000000   480.000000     14.000000   \n",
      "\n",
      "       TotalBsmtSF   WoodDeckSF   YearBuilt  YearRemodAdd       YrSold  \n",
      "count  1456.000000  1456.000000  1456.00000   1456.000000  1456.000000  \n",
      "mean   1050.658654    93.833791  1971.18544   1984.819368  2007.817308  \n",
      "std     412.155715   125.192349    30.20159     20.652143     1.329394  \n",
      "min       0.000000     0.000000  1872.00000   1950.000000  2006.000000  \n",
      "25%     795.000000     0.000000  1954.00000   1966.750000  2007.000000  \n",
      "50%     990.500000     0.000000  1972.00000   1993.500000  2008.000000  \n",
      "75%    1293.750000   168.000000  2000.00000   2004.000000  2009.000000  \n",
      "max    3206.000000   857.000000  2010.00000   2010.000000  2010.000000  \n",
      "\n",
      "[8 rows x 47 columns]\n",
      "\n",
      "🔹 بعد التحجيم:\n",
      "           1stFlrSF      2ndFlrSF     3SsnPorch  BedroomAbvGr      BsmtCond  \\\n",
      "count  1.456000e+03  1.456000e+03  1.456000e+03  1.456000e+03  1.456000e+03   \n",
      "mean  -2.989062e-17  3.843080e-17 -2.196046e-17  2.293648e-16  1.952040e-17   \n",
      "std    1.000344e+00  1.000344e+00  1.000344e+00  1.000344e+00  1.000344e+00   \n",
      "min   -2.229556e+00 -7.963568e-01 -1.165011e-01 -3.512727e+00 -5.309689e+00   \n",
      "25%   -7.451870e-01 -7.963568e-01 -1.165011e-01 -1.060303e+00  1.180483e-01   \n",
      "50%   -1.926118e-01 -7.963568e-01 -1.165011e-01  1.659092e-01  1.180483e-01   \n",
      "75%    6.288022e-01  8.912476e-01 -1.165011e-01  1.659092e-01  1.180483e-01   \n",
      "max    5.609428e+00  3.418018e+00  1.719363e+01  6.296969e+00  1.927294e+00   \n",
      "\n",
      "         BsmtFinSF1    BsmtFinSF2  BsmtFullBath  BsmtHalfBath      BsmtQual  \\\n",
      "count  1.456000e+03  1.456000e+03  1.456000e+03  1.456000e+03  1.456000e+03   \n",
      "mean  -8.296172e-17 -2.989062e-17  4.880101e-18 -2.196046e-17 -1.317627e-16   \n",
      "std    1.000344e+00  1.000344e+00  1.000344e+00  1.000344e+00  1.000344e+00   \n",
      "min   -1.016005e+00 -2.890821e-01 -8.192750e-01 -2.398173e-01 -3.988249e+00   \n",
      "25%   -1.016005e+00 -2.890821e-01 -8.192750e-01 -2.398173e-01 -5.549279e-01   \n",
      "50%   -1.301793e-01 -2.890821e-01 -8.192750e-01 -2.398173e-01  5.895126e-01   \n",
      "75%    6.266086e-01 -2.890821e-01  1.114055e+00 -2.398173e-01  5.895126e-01   \n",
      "max    4.071098e+00  8.839724e+00  4.980714e+00  8.174014e+00  1.733953e+00   \n",
      "\n",
      "       ...   OverallCond   OverallQual      PoolArea   ScreenPorch  \\\n",
      "count  ...  1.456000e+03  1.456000e+03  1.456000e+03  1.456000e+03   \n",
      "mean   ...  3.904081e-17 -2.464451e-16  4.880101e-18  5.490114e-17   \n",
      "std    ...  1.000344e+00  1.000344e+00  1.000344e+00  1.000344e+00   \n",
      "min    ... -4.109470e+00 -3.716479e+00 -5.811529e-02 -2.706064e-01   \n",
      "25%    ... -5.174614e-01 -7.950627e-01 -5.811529e-02 -2.706064e-01   \n",
      "50%    ... -5.174614e-01 -6.470858e-02 -5.811529e-02 -2.706064e-01   \n",
      "75%    ...  3.805408e-01  6.656456e-01 -5.811529e-02 -2.706064e-01   \n",
      "max    ...  3.074547e+00  2.856708e+00  2.080607e+01  8.330121e+00   \n",
      "\n",
      "       TotRmsAbvGrd   TotalBsmtSF    WoodDeckSF     YearBuilt  YearRemodAdd  \\\n",
      "count  1.456000e+03  1.456000e+03  1.456000e+03  1.456000e+03  1.456000e+03   \n",
      "mean   1.390829e-16  7.320152e-17 -2.684056e-17 -9.918806e-16  4.858141e-15   \n",
      "std    1.000344e+00  1.000344e+00  1.000344e+00  1.000344e+00  1.000344e+00   \n",
      "min   -2.796705e+00 -2.550055e+00 -7.497745e-01 -3.285242e+00 -1.686572e+00   \n",
      "25%   -9.347925e-01 -6.205094e-01 -7.497745e-01 -5.692198e-01 -8.752398e-01   \n",
      "50%   -3.141551e-01 -1.460111e-01 -7.497745e-01  2.698005e-02  4.204704e-01   \n",
      "75%    3.064824e-01  5.900073e-01  5.926216e-01  9.544021e-01  9.290669e-01   \n",
      "max    4.650945e+00  5.231231e+00  6.098044e+00  1.285624e+00  1.219693e+00   \n",
      "\n",
      "             YrSold  \n",
      "count  1.456000e+03  \n",
      "mean   5.266483e-14  \n",
      "std    1.000344e+00  \n",
      "min   -1.367490e+00  \n",
      "25%   -6.150085e-01  \n",
      "50%    1.374725e-01  \n",
      "75%    8.899535e-01  \n",
      "max    1.642435e+00  \n",
      "\n",
      "[8 rows x 47 columns]\n"
     ]
    }
   ],
   "source": [
    "# إحصائيات الأعمدة العددية قبل التحجيم\n",
    "print(\"🔹 قبل التحجيم:\")\n",
    "print(train_copy[num_features].describe())\n",
    "\n",
    "# إحصائيات الأعمدة العددية بعد التحجيم\n",
    "print(\"\\n🔹 بعد التحجيم:\")\n",
    "print(train_scaled[num_features].describe())\n"
   ]
  },
  {
   "cell_type": "code",
   "execution_count": 70,
   "id": "5bc54b11-faf1-4d0d-ad46-878e8f474aaf",
   "metadata": {},
   "outputs": [
    {
     "data": {
      "image/png": "[encoded data removed]",
      "text/plain": [
       "<Figure size 1000x500 with 1 Axes>"
      ]
     },
     "metadata": {},
     "output_type": "display_data"
    }
   ],
   "source": [
    "plt.figure(figsize=(10, 5))\n",
    "sns.kdeplot(train_copy['LotArea'], label='befor', fill=True)\n",
    "sns.kdeplot(train_scaled['LotArea'], label='after', fill=True)\n",
    "plt.legend()\n",
    "plt.title('LOTAREA befor and after scaling')\n",
    "plt.show()\n"
   ]
  },
  {
   "cell_type": "code",
   "execution_count": 71,
   "id": "8a5201e6-d4ae-40d1-9594-a33ff5b235d9",
   "metadata": {},
   "outputs": [
    {
     "name": "stdout",
     "output_type": "stream",
     "text": [
      "count    1456.000000\n",
      "mean        9.107632\n",
      "std         0.513351\n",
      "min         7.170888\n",
      "25%         8.927944\n",
      "50%         9.155831\n",
      "75%         9.357811\n",
      "max        12.279537\n",
      "Name: LotArea, dtype: float64\n",
      "count    1.456000e+03\n",
      "mean    -6.649138e-16\n",
      "std      1.000344e+00\n",
      "min     -3.774046e+00\n",
      "25%     -3.501503e-01\n",
      "50%      9.392281e-02\n",
      "75%      4.875125e-01\n",
      "max      6.180947e+00\n",
      "Name: LotArea, dtype: float64\n"
     ]
    }
   ],
   "source": [
    "print(train_copy['LotArea'].describe())\n",
    "print(train_scaled['LotArea'].describe())\n"
   ]
  },
  {
   "cell_type": "code",
   "execution_count": 72,
   "id": "4bb293d7-42b0-4b8c-8270-de9940612c99",
   "metadata": {},
   "outputs": [],
   "source": [
    "train_scaled.to_csv(\"cleaned_train.csv\", index=False)\n",
    "test_scaled.to_csv(\"cleaned_test.csv\", index=False)\n"
   ]
  },
  {
   "cell_type": "code",
   "execution_count": null,
   "id": "b891347d-cb32-4bb8-b10d-434b090f2550",
   "metadata": {},
   "outputs": [],
   "source": []
  }
 ],
 "metadata": {
  "kernelspec": {
   "display_name": "Python 3 (ipykernel)",
   "language": "python",
   "name": "python3"
  },
  "language_info": {
   "codemirror_mode": {
    "name": "ipython",
    "version": 3
   },
   "file_extension": ".py",
   "mimetype": "text/x-python",
   "name": "python",
   "nbconvert_exporter": "python",
   "pygments_lexer": "ipython3",
   "version": "3.12.7"
  }
 },
 "nbformat": 4,
 "nbformat_minor": 5
}
